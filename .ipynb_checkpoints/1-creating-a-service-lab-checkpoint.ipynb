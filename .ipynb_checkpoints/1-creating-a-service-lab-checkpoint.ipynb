{
 "cells": [
  {
   "cell_type": "markdown",
   "metadata": {},
   "source": [
    "# Creating a Service Lab"
   ]
  },
  {
   "cell_type": "markdown",
   "metadata": {},
   "source": [
    "### Introduction"
   ]
  },
  {
   "cell_type": "markdown",
   "metadata": {},
   "source": [
    "In this lesson, we'll use Kubernetes to create a deployment with a backend Flask API and a frontend streamlit app.  And then through there, we'll create a new service to allow us to make requests to our Flask API from our streamlit application.  Let's get started."
   ]
  },
  {
   "cell_type": "markdown",
   "metadata": {},
   "source": [
    "### Building our Docker Images"
   ]
  },
  {
   "cell_type": "markdown",
   "metadata": {},
   "source": [
    "If we look at our `services` folder, we can see our backend application inside of the `api` folder.  "
   ]
  },
  {
   "cell_type": "markdown",
   "metadata": {},
   "source": [
    "```bash\n",
    "services/api/\n",
    "├── Dockerfile\n",
    "├── requirements.txt\n",
    "└── restaurants\n",
    "    ├── __init__.py\n",
    "```"
   ]
  },
  {
   "cell_type": "markdown",
   "metadata": {},
   "source": [
    "Let's take a look at the Dockerfile used to build the streamlit application."
   ]
  },
  {
   "cell_type": "markdown",
   "metadata": {},
   "source": [
    "```Dockerfile\n",
    "FROM python:3.7\n",
    "EXPOSE 8501\n",
    "WORKDIR /usr/src/app\n",
    "\n",
    "COPY requirements.txt ./\n",
    "RUN pip install -r requirements.txt\n",
    "\n",
    "COPY . .\n",
    "\n",
    "CMD [\"streamlit\", \"run\", \"src/index.py\"]\n",
    "```"
   ]
  },
  {
   "cell_type": "markdown",
   "metadata": {},
   "source": [
    "Note that we expose port 8501 as that is where streamlit is located.  And we change the working directory to `/usr/src/app` on the image.  Then we copy over the and install the `requirements.txt` file, and then copy over the rest of the codebase before running the streamlit command.  \n",
    "\n",
    "This image can take some time to install, so have it available for you at `jek2141/restaurants_frontend`.  Later on, you can use it to be part of your kubernetes pod."
   ]
  },
  {
   "cell_type": "markdown",
   "metadata": {},
   "source": [
    "### Installing the API"
   ]
  },
  {
   "cell_type": "markdown",
   "metadata": {},
   "source": [
    "```Dockerfile\n",
    "FROM python:3.7-alpine\n",
    "WORKDIR /usr/src/app\n",
    "\n",
    "COPY ./ ./\n",
    "\n",
    "RUN pip3 install -r requirements.txt\n",
    "\n",
    "CMD [\"flask\", \"run\", \"--host=0.0.0.0\"]\n",
    "```"
   ]
  },
  {
   "cell_type": "markdown",
   "metadata": {},
   "source": [
    "Then comes the image for the API.  This has fewer dependencies.  So use docker to build this image and tag it as `<username>/restaurants_api`.  \n",
    "\n",
    "\n",
    "\n",
    "Before pushing it up to Dockerhub, confirm that it is working properly.  Expose the proper port, and visit the restaurants route in the browser and we should see the following:"
   ]
  },
  {
   "cell_type": "markdown",
   "metadata": {},
   "source": [
    "<img src=\"./restaurants_route.png\" width=\"40%\">"
   ]
  },
  {
   "cell_type": "markdown",
   "metadata": {},
   "source": [
    "Next push this repository to Dockerhub."
   ]
  },
  {
   "cell_type": "markdown",
   "metadata": {},
   "source": [
    "### Building our Deployments"
   ]
  },
  {
   "cell_type": "markdown",
   "metadata": {},
   "source": [
    "Now that we have both of our images available on Dockerhub, let's get deploy them into pods in Kubernetes.  First fill in the `api-deployment.yaml` and `frontend-deployment.yaml` config files in the k8s folder.  Make sure that the ports are setup correctly, and that the correct images are pulled.  \n",
    "\n",
    "Configure the deployments so that two replicas of the images are created."
   ]
  },
  {
   "cell_type": "markdown",
   "metadata": {},
   "source": [
    "<img src=\"./get_pods.png\" width=\"70%\">"
   ]
  },
  {
   "cell_type": "markdown",
   "metadata": {},
   "source": [
    "### Building the Service"
   ]
  },
  {
   "cell_type": "markdown",
   "metadata": {},
   "source": [
    "Now we need to set up a service for the api deployment.   Name it `api-deployment-service`, as that is how it is referenced in the streamlit application."
   ]
  },
  {
   "cell_type": "markdown",
   "metadata": {},
   "source": [
    "> Confirm that the service is working, by running `kubectl get services` and viewing the `api-deployment-service`."
   ]
  },
  {
   "cell_type": "markdown",
   "metadata": {},
   "source": [
    "<img src=\"./get_services.png\" width=\"70%\">"
   ]
  },
  {
   "cell_type": "markdown",
   "metadata": {},
   "source": [
    "> Then confirm that the deployment service is connected to the correct pods.  First check the ip addresses of the api pods with the following:"
   ]
  },
  {
   "cell_type": "markdown",
   "metadata": {},
   "source": [
    "`kubectl describe pods -l component=api`"
   ]
  },
  {
   "cell_type": "markdown",
   "metadata": {},
   "source": [
    "> Remember that the `-l` stands for label, and we are selecting the pods with the label of api."
   ]
  },
  {
   "cell_type": "markdown",
   "metadata": {},
   "source": [
    "Write them down below."
   ]
  },
  {
   "cell_type": "code",
   "execution_count": 1,
   "metadata": {},
   "outputs": [],
   "source": [
    "# writing spot"
   ]
  },
  {
   "cell_type": "markdown",
   "metadata": {},
   "source": [
    "Then examine the virtual ip address of the service as well as the ip addresses of the api pods the traffic is forwarded to.  Confirm that they are the same as written above."
   ]
  },
  {
   "cell_type": "markdown",
   "metadata": {},
   "source": [
    "### Confirming the connection"
   ]
  },
  {
   "cell_type": "markdown",
   "metadata": {},
   "source": [
    "Now check that we can make a request to our Flask API from our frontend pod.  To do so, first connect to one of front end pods, and then make a request through curl to the `api-deployment-service`."
   ]
  },
  {
   "cell_type": "markdown",
   "metadata": {},
   "source": [
    "> If it works correctly, we should see the following."
   ]
  },
  {
   "cell_type": "markdown",
   "metadata": {},
   "source": [
    "<img src=\"./restaurants.png\" width=\"70%\">"
   ]
  },
  {
   "cell_type": "markdown",
   "metadata": {},
   "source": [
    "Ok, now this is what we should be able to make a request to from the streamlit application.  Update the frontend application so that it makes a request to the service, and displays the json. \n",
    "\n",
    "> Make sure that when connecting to the api, you have `http://` first.\n",
    "\n",
    "Then we'll need to rebuild the image, update the version, and apply the change in our kubernetes deployment.\n",
    "\n",
    "Apply port-forwarding to one of the frontend pods to connect to the streamlit application.  When we reach the streamlit app from our browser we should see something like the following:"
   ]
  },
  {
   "cell_type": "markdown",
   "metadata": {},
   "source": [
    "<img src=\"./connecting-application.png\" width=\"60%\">"
   ]
  },
  {
   "cell_type": "markdown",
   "metadata": {},
   "source": [
    "### Summary"
   ]
  },
  {
   "cell_type": "markdown",
   "metadata": {},
   "source": [
    "In this lesson we saw how to connect our frontend to our backend api through a service.  We connected to the service through the service name, `api-deployment-service`, and because of this, we were able to connect to our api-deployment pods, regardless of where the pods for our api-deployment lived.  "
   ]
  },
  {
   "cell_type": "markdown",
   "metadata": {},
   "source": [
    "### Resources\n",
    "\n",
    "[Docker Dmetrios](https://towardsdatascience.com/docker-you-are-doing-it-wrong-e703075dd67b)\n",
    "\n",
    "[Telepresence](https://blog.softwaremill.com/developing-microservices-with-kubernetes-and-telepresence-c390d3ca9fcb)"
   ]
  }
 ],
 "metadata": {
  "kernelspec": {
   "display_name": "Python 3",
   "language": "python",
   "name": "python3"
  },
  "language_info": {
   "codemirror_mode": {
    "name": "ipython",
    "version": 3
   },
   "file_extension": ".py",
   "mimetype": "text/x-python",
   "name": "python",
   "nbconvert_exporter": "python",
   "pygments_lexer": "ipython3",
   "version": "3.8.6"
  }
 },
 "nbformat": 4,
 "nbformat_minor": 4
}
